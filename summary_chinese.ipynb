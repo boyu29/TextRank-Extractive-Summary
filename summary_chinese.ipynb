{
 "metadata": {
  "language_info": {
   "codemirror_mode": {
    "name": "ipython",
    "version": 3
   },
   "file_extension": ".py",
   "mimetype": "text/x-python",
   "name": "python",
   "nbconvert_exporter": "python",
   "pygments_lexer": "ipython3",
   "version": "3.7.7-final"
  },
  "orig_nbformat": 2,
  "kernelspec": {
   "name": "python_defaultSpec_1600246428088",
   "display_name": "Python 3.7.7 64-bit"
  }
 },
 "nbformat": 4,
 "nbformat_minor": 2,
 "cells": [
  {
   "source": [
    "## 1 数据预处理"
   ],
   "cell_type": "markdown",
   "metadata": {}
  },
  {
   "source": [
    "### 1.1 数据导入"
   ],
   "cell_type": "markdown",
   "metadata": {}
  },
  {
   "cell_type": "code",
   "execution_count": 1,
   "metadata": {},
   "outputs": [
    {
     "output_type": "execute_result",
     "data": {
      "text/plain": "   0                                                  1\n0  1  雷锋网按，9月15日百度世界2020大会在线上召开，并由央视新闻全程直播。作为大会的首发环节...\n1  2  难不成有生之年还真能一睹外星人真容？在「科学家发现金星有生命存在可能」的热门话题之下，有网友...\n2  3  2020年9月5日，由雷锋网 & AI掘金志主办的「第三届中国人工智能安防峰会」在杭州正式召...",
      "text/html": "<div>\n<style scoped>\n    .dataframe tbody tr th:only-of-type {\n        vertical-align: middle;\n    }\n\n    .dataframe tbody tr th {\n        vertical-align: top;\n    }\n\n    .dataframe thead th {\n        text-align: right;\n    }\n</style>\n<table border=\"1\" class=\"dataframe\">\n  <thead>\n    <tr style=\"text-align: right;\">\n      <th></th>\n      <th>0</th>\n      <th>1</th>\n    </tr>\n  </thead>\n  <tbody>\n    <tr>\n      <th>0</th>\n      <td>1</td>\n      <td>雷锋网按，9月15日百度世界2020大会在线上召开，并由央视新闻全程直播。作为大会的首发环节...</td>\n    </tr>\n    <tr>\n      <th>1</th>\n      <td>2</td>\n      <td>难不成有生之年还真能一睹外星人真容？在「科学家发现金星有生命存在可能」的热门话题之下，有网友...</td>\n    </tr>\n    <tr>\n      <th>2</th>\n      <td>3</td>\n      <td>2020年9月5日，由雷锋网 &amp; AI掘金志主办的「第三届中国人工智能安防峰会」在杭州正式召...</td>\n    </tr>\n  </tbody>\n</table>\n</div>"
     },
     "metadata": {},
     "execution_count": 1
    }
   ],
   "source": [
    "import pandas as pd\n",
    "import numpy as np\n",
    "\n",
    "df = pd.read_csv('sample_article.txt',header=None)\n",
    "df.head()"
   ]
  },
  {
   "cell_type": "code",
   "execution_count": 2,
   "metadata": {},
   "outputs": [],
   "source": [
    "df.columns = ['num','text']"
   ]
  },
  {
   "cell_type": "code",
   "execution_count": 3,
   "metadata": {},
   "outputs": [
    {
     "output_type": "execute_result",
     "data": {
      "text/plain": "   num                                               text\n0    1  雷锋网按，9月15日百度世界2020大会在线上召开，并由央视新闻全程直播。作为大会的首发环节...\n1    2  难不成有生之年还真能一睹外星人真容？在「科学家发现金星有生命存在可能」的热门话题之下，有网友...\n2    3  2020年9月5日，由雷锋网 & AI掘金志主办的「第三届中国人工智能安防峰会」在杭州正式召...",
      "text/html": "<div>\n<style scoped>\n    .dataframe tbody tr th:only-of-type {\n        vertical-align: middle;\n    }\n\n    .dataframe tbody tr th {\n        vertical-align: top;\n    }\n\n    .dataframe thead th {\n        text-align: right;\n    }\n</style>\n<table border=\"1\" class=\"dataframe\">\n  <thead>\n    <tr style=\"text-align: right;\">\n      <th></th>\n      <th>num</th>\n      <th>text</th>\n    </tr>\n  </thead>\n  <tbody>\n    <tr>\n      <th>0</th>\n      <td>1</td>\n      <td>雷锋网按，9月15日百度世界2020大会在线上召开，并由央视新闻全程直播。作为大会的首发环节...</td>\n    </tr>\n    <tr>\n      <th>1</th>\n      <td>2</td>\n      <td>难不成有生之年还真能一睹外星人真容？在「科学家发现金星有生命存在可能」的热门话题之下，有网友...</td>\n    </tr>\n    <tr>\n      <th>2</th>\n      <td>3</td>\n      <td>2020年9月5日，由雷锋网 &amp; AI掘金志主办的「第三届中国人工智能安防峰会」在杭州正式召...</td>\n    </tr>\n  </tbody>\n</table>\n</div>"
     },
     "metadata": {},
     "execution_count": 3
    }
   ],
   "source": [
    "df.head()"
   ]
  },
  {
   "cell_type": "code",
   "execution_count": 4,
   "metadata": {},
   "outputs": [
    {
     "output_type": "execute_result",
     "data": {
      "text/plain": "0    雷锋网按，9月15日百度世界2020大会在线上召开，并由央视新闻全程直播。作为大会的首发环节...\n1    难不成有生之年还真能一睹外星人真容？在「科学家发现金星有生命存在可能」的热门话题之下，有网友...\n2    2020年9月5日，由雷锋网 & AI掘金志主办的「第三届中国人工智能安防峰会」在杭州正式召...\nName: text, dtype: object"
     },
     "metadata": {},
     "execution_count": 4
    }
   ],
   "source": [
    "df['text']"
   ]
  },
  {
   "source": [
    "## 1.2 文本数据分句"
   ],
   "cell_type": "markdown",
   "metadata": {}
  },
  {
   "cell_type": "code",
   "execution_count": 5,
   "metadata": {},
   "outputs": [],
   "source": [
    "from SentenceSplit import cut_sentence_with_quotation_marks\n",
    "# 分句程序来源：@GLZ1925 https://github.com/GLZ1925/-\n",
    "sentence_all = []\n",
    "for item in df['text']:\n",
    "    sentence_all.append(cut_sentence_with_quotation_marks(item))"
   ]
  },
  {
   "cell_type": "code",
   "execution_count": 6,
   "metadata": {},
   "outputs": [
    {
     "output_type": "execute_result",
     "data": {
      "text/plain": "141"
     },
     "metadata": {},
     "execution_count": 6
    }
   ],
   "source": [
    "len(sentence_all[2])"
   ]
  },
  {
   "source": [
    "### 1.3 清洗去除停用词"
   ],
   "cell_type": "markdown",
   "metadata": {}
  },
  {
   "cell_type": "code",
   "execution_count": 7,
   "metadata": {},
   "outputs": [],
   "source": [
    "fsw = open('stop_words.txt',encoding='utf-8')\n",
    "stop_words = []\n",
    "for line in fsw:\n",
    "    stop_words.append(line.strip())\n",
    "stop_words = set(stop_words)"
   ]
  },
  {
   "cell_type": "code",
   "execution_count": 8,
   "metadata": {
    "tags": []
   },
   "outputs": [
    {
     "output_type": "stream",
     "name": "stderr",
     "text": "Building prefix dict from the default dictionary ...\nLoading model from cache /var/folders/vz/l8r_5knx1g3c4yz2yq3mmjnw0000gn/T/jieba.cache\nLoading model cost 0.951 seconds.\nPrefix dict has been built successfully.\n"
    }
   ],
   "source": [
    "import jieba\n",
    "for article in sentence_all:\n",
    "    for i in range(len(article)):\n",
    "        article[i] = ' '.join(jieba.cut(article[i]))"
   ]
  },
  {
   "cell_type": "code",
   "execution_count": 13,
   "metadata": {},
   "outputs": [
    {
     "output_type": "execute_result",
     "data": {
      "text/plain": "'雷锋 网 按 ， 9 月 15 日 百度 世界 2020 大会 在线 上 召开 ， 并 由 央视 新闻 全程 直播 。'"
     },
     "metadata": {},
     "execution_count": 13
    }
   ],
   "source": [
    "sentence_all[0][0]"
   ]
  },
  {
   "cell_type": "code",
   "execution_count": 11,
   "metadata": {},
   "outputs": [],
   "source": [
    "def remove_stopwords(sen):\n",
    "    sen_new = ' '.join([i.strip() for i in sen if i not in stop_words])\n",
    "    return sen_new\n",
    "\n",
    "import jieba\n",
    "\n",
    "clean_sentence = []\n",
    "# clean_article=[]\n",
    "\n",
    "for artricle in sentence_all:\n",
    "    clean_article=[]\n",
    "    for i in range(len(artricle)):\n",
    "        word = remove_stopwords(artricle[i].split())\n",
    "        clean_article.append(word)\n",
    "    clean_sentence.append(clean_article)"
   ]
  },
  {
   "cell_type": "code",
   "execution_count": 12,
   "metadata": {},
   "outputs": [
    {
     "output_type": "execute_result",
     "data": {
      "text/plain": "'雷锋 网 月 15 日 百度 世界 2020 大会 在线 央视 新闻 全程 直播'"
     },
     "metadata": {},
     "execution_count": 12
    }
   ],
   "source": [
    "clean_sentence[0][0]"
   ]
  },
  {
   "source": [
    "### 1.4 加载中文词向量"
   ],
   "cell_type": "markdown",
   "metadata": {}
  },
  {
   "cell_type": "code",
   "execution_count": 14,
   "metadata": {},
   "outputs": [
    {
     "output_type": "execute_result",
     "data": {
      "text/plain": "352162"
     },
     "metadata": {},
     "execution_count": 14
    }
   ],
   "source": [
    "word_embeddings = {}\n",
    "f = open('sgns.wiki.word',encoding='utf-8')\n",
    "for line in f:\n",
    "    values = line.split()\n",
    "    word = values[0]\n",
    "    vecs = np.asarray(values[1:],dtype='float32')\n",
    "    word_embeddings[word] = vecs\n",
    "f.close()\n",
    "len(word_embeddings)"
   ]
  },
  {
   "source": [
    "### 1.5 生成文本句向量"
   ],
   "cell_type": "markdown",
   "metadata": {}
  },
  {
   "cell_type": "code",
   "execution_count": 15,
   "metadata": {},
   "outputs": [],
   "source": [
    "sentence_vec = []\n",
    "for item in clean_sentence:\n",
    "    item_vec = []\n",
    "    for i in item:\n",
    "        if len(i) != 0:\n",
    "            v = sum([word_embeddings.get(w,np.zeros((300,))) for w in i.split()]) / (len(i.split())+0.001)\n",
    "        else:\n",
    "            v = np.zeros((300,))\n",
    "        item_vec.append(v)\n",
    "    sentence_vec.append(item_vec)"
   ]
  },
  {
   "cell_type": "code",
   "execution_count": 16,
   "metadata": {},
   "outputs": [
    {
     "output_type": "execute_result",
     "data": {
      "text/plain": "300"
     },
     "metadata": {},
     "execution_count": 16
    }
   ],
   "source": [
    "len(sentence_vec[0][0])"
   ]
  },
  {
   "source": [
    "## 2 获取文章摘要"
   ],
   "cell_type": "markdown",
   "metadata": {}
  },
  {
   "cell_type": "code",
   "execution_count": 24,
   "metadata": {
    "tags": []
   },
   "outputs": [
    {
     "output_type": "stream",
     "name": "stdout",
     "text": "summary 0\n\n\n0.01051667079604945\n从整体来看，前装量产车、AI老司机、5G云代驾这三大要素并非所有玩家都能同时具备，而这也是百度得以一直保持国内自动驾驶\n\n\n0.011458602229726065\n看起来跟一些赛车游戏设备相仿，通过高带宽、低时延的5G网络，云代驾可以从屏幕组上观察汽车周围360°状况，并利用方向盘、档把、脚踏板等控制器驾驶车辆，直到脱困并远程重启无人驾驶系统\n\n\n\n\nsummary 1\n\n\n0.026035994973791696\n一项最新进展是：来自美国麻省理工学院、英国曼彻斯特大学和卡迪夫大学的一组科学家借助位于夏威夷的麦克斯韦望远镜（JCMT）和位于智利北方沙漠的ALMA望远镜，在金星大气层中两度发现了生物标记磷化氢（PH3），因此不排除金星存在生命迹象的可能性。\n\n\n0.03076016940582338\n因此，目前科学家们给出了两种可能的解释：存在某种我们未知的光化学或地球化学反应；金星可能存在生命。\n\n\n\n\nsummary 2\n\n\n0.006397392139470044\n联邦数据部落，在确保数据安全及用户隐私的前提下，建立基于联邦智能的大数据部落生态，充分发挥各行业参与方的数据价值，推动垂直领域案例落地。\n\n\n0.007353104628658913\n王健宗指出，目前人工智能在移动互联网、云计算、大数据、IoT、5G等新技术的驱动下得以迅猛发展，不过在AI技术落地时总是有所欠缺，即人工智能通用算法在本地化部署过程中所面临的数据困境，而这一块恰恰是相关行业或企业所缺乏的。\n\n\n\n\n"
    }
   ],
   "source": [
    "for num in range(len(sentence_all)):\n",
    "    '''计算余弦相似度，生成矩阵'''\n",
    "    sim_mat = np.zeros([len(sentence_all[num]),len(sentence_all[num])])\n",
    "    from sklearn.metrics.pairwise import cosine_similarity\n",
    "\n",
    "    for i in range(len(sentence_all[num])):\n",
    "        for j in range(len(sentence_all[num])):\n",
    "            if i != j:\n",
    "                sim_mat[i][j] = cosine_similarity(sentence_vec[num][i].reshape(1,300), sentence_vec[num][j].reshape(1,300))[0]\n",
    "    \n",
    "    '''TextRank算法计算句子权重排名'''\n",
    "    import networkx as nx\n",
    "    nx_graph = nx.from_numpy_array(sim_mat)\n",
    "    scores = nx.pagerank(nx_graph)\n",
    "\n",
    "    '''提取每篇文章排名最高的两句话作为本文摘要'''\n",
    "    ranked_sentences = sorted(((scores[i],s) for i,s in enumerate(sentence_all[num])), reverse=True)\n",
    "    print('summary',num)\n",
    "    print('\\n')\n",
    "    for i in range(2):\n",
    "        print(scores[i])\n",
    "        print(''.join(ranked_sentences[i][1].split()))\n",
    "        print('\\n')\n",
    "    print('\\n')"
   ]
  },
  {
   "cell_type": "code",
   "execution_count": null,
   "metadata": {},
   "outputs": [],
   "source": []
  }
 ]
}